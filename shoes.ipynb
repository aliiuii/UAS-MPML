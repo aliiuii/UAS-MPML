{
 "cells": [
  {
   "cell_type": "markdown",
   "metadata": {},
   "source": [
    "# Proyek Ujian Akhir Semester: Prediksi Rating Sepatu\n",
    "\n",
    "**Nama:** [Isi Nama Anda]\n",
    "**NIM:** [Isi NIM Anda]\n",
    "**Mata Kuliah:** Modern Prediction and Machine Learning\n",
    "\n",
    "---"
   ]
  },
  {
   "cell_type": "markdown",
   "metadata": {},
   "source": [
    "## Tahap 1: Seleksi dan Eksplorasi Dataset (EDA)"
   ]
  },
  {
   "cell_type": "markdown",
   "metadata": {},
   "source": [
    "### 1.1 Deskripsi Dataset\n",
    "\n",
    "Dataset yang digunakan adalah **\"Shoe Dataset\"** dari Kaggle. Dataset ini berisi informasi tentang berbagai sepatu pria yang dijual secara online.\n",
    "\n",
    "**Fitur-fitur dalam dataset:**\n",
    "- **Brand_Name**: Nama merek sepatu (Kategorikal).\n",
    "- **How_Many_Sold**: Jumlah unit yang terjual (Numerik).\n",
    "- **Current_Price**: Harga sepatu saat ini (Numerik, perlu dibersihkan).\n",
    "- **Product_details**: Deskripsi singkat produk (Teks).\n",
    "- **RATING**: Rating rata-rata produk dari pelanggan (Numerik, target prediksi).\n",
    "\n",
    "**Alasan Pemilihan Dataset:** Dataset ini dipilih karena relevan dengan tugas *supervised learning* (regresi) untuk memprediksi rating. Data ini juga memiliki kombinasi fitur numerik dan kategorikal yang menarik untuk dianalisis dan diproses."
   ]
  },
  {
   "cell_type": "markdown",
   "metadata": {},
   "source": [
    "### 1.2 Import Library dan Memuat Data"
   ]
  },
  {
   "cell_type": "code",
   "execution_count": null,
   "metadata": {},
   "outputs": [],
   "source": [
    "import pandas as pd\n",
    "import numpy as np\n",
    "import matplotlib.pyplot as plt\n",
    "import seaborn as sns\n",
    "import warnings\n",
    "\n",
    "warnings.filterwarnings('ignore')\n",
    "sns.set_style('whitegrid')"
   ]
  },
  {
   "cell_type": "code",
   "execution_count": null,
   "metadata": {},
   "outputs": [],
   "source": [
    "# Ganti 'MEN_SHOES.csv' dengan path file Anda jika berbeda\n",
    "df = pd.read_csv('MEN_SHOES.csv')\n",
    "df.head()"
   ]
  },
  {
   "cell_type": "markdown",
   "metadata": {},
   "source": [
    "### 1.3 Analisis Data Eksploratif (EDA)"
   ]
  },
  {
   "cell_type": "code",
   "execution_count": null,
   "metadata": {},
   "outputs": [],
   "source": [
    "df.info()"
   ]
  },
  {
   "cell_type": "markdown",
   "metadata": {},
   "source": [
    "Terlihat ada beberapa nilai null di kolom `How_Many_Sold` dan `RATING`. Kolom `Current_Price` dan `How_Many_Sold` juga perlu diubah menjadi tipe data numerik."
   ]
  },
  {
   "cell_type": "code",
   "execution_count": null,
   "metadata": {},
   "outputs": [],
   "source": [
    "# Pra-pemrosesan awal untuk EDA\n",
    "df_eda = df.copy()\n",
    "\n",
    "# Membersihkan kolom harga\n",
    "df_eda['Current_Price'] = df_eda['Current_Price'].astype(str).str.replace('₹', '').str.replace(',', '').astype(float)\n",
    "\n",
    "# Membersihkan kolom How_Many_Sold\n",
    "df_eda['How_Many_Sold'] = df_eda['How_Many_Sold'].astype(str).str.replace(',', '').astype(float)\n",
    "\n",
    "# Mengisi nilai null untuk sementara (hanya untuk EDA)\n",
    "df_eda['How_Many_Sold'].fillna(df_eda['How_Many_Sold'].median(), inplace=True)\n",
    "df_eda['RATING'].fillna(df_eda['RATING'].median(), inplace=True)\n",
    "\n",
    "df_eda.describe()"
   ]
  },
  {
   "cell_type": "markdown",
   "metadata": {},
   "source": [
    "#### Visualisasi Distribusi Fitur Numerik"
   ]
  },
  {
   "cell_type": "code",
   "execution_count": null,
   "metadata": {},
   "outputs": [],
   "source": [
    "fig, axes = plt.subplots(1, 3, figsize=(18, 5))\n",
    "fig.suptitle('Distribusi Fitur Numerik', fontsize=16)\n",
    "\n",
    "sns.histplot(df_eda['Current_Price'], kde=True, ax=axes[0])\n",
    "axes[0].set_title('Distribusi Harga')\n",
    "\n",
    "sns.histplot(df_eda['How_Many_Sold'], kde=True, ax=axes[1])\n",
    "axes[1].set_title('Distribusi Jumlah Terjual')\n",
    "\n",
    "sns.histplot(df_eda['RATING'], kde=True, ax=axes[2])\n",
    "axes[2].set_title('Distribusi Rating')\n",
    "\n",
    "plt.show()"
   ]
  },
  {
   "cell_type": "markdown",
   "metadata": {},
   "source": [
    "#### Visualisasi Berdasarkan Merek"
   ]
  },
  {
   "cell_type": "code",
   "execution_count": null,
   "metadata": {},
   "outputs": [],
   "source": [
    "plt.figure(figsize=(12, 8))\n",
    "sns.countplot(y='Brand_Name', data=df_eda, order=df_eda['Brand_Name'].value_counts().index)\n",
    "plt.title('Jumlah Produk per Merek')\n",
    "plt.xlabel('Jumlah Produk')\n",
    "plt.ylabel('Merek')\n",
    "plt.show()"
   ]
  },
  {
   "cell_type": "markdown",
   "metadata": {},
   "source": [
    "#### Korelasi antar Fitur Numerik"
   ]
  },
  {
   "cell_type": "code",
   "execution_count": null,
   "metadata": {},
   "outputs": [],
   "source": [
    "plt.figure(figsize=(8, 6))\n",
    "correlation_matrix = df_eda[['Current_Price', 'How_Many_Sold', 'RATING']].corr()\n",
    "sns.heatmap(correlation_matrix, annot=True, cmap='coolwarm', fmt='.2f')\n",
    "plt.title('Heatmap Korelasi')\n",
    "plt.show()"
   ]
  },
  {
   "cell_type": "markdown",
   "metadata": {},
   "source": [
    "### 1.4 Perumusan Hipotesis\n",
    "\n",
    "**Hipotesis:** Ada hubungan positif antara `Current_Price` dan `RATING`. Artinya, sepatu dengan harga yang lebih tinggi cenderung mendapatkan rating yang lebih baik dari pelanggan. \n",
    "\n",
    "Dari heatmap korelasi, terlihat korelasi antara `Current_Price` dan `RATING` sangat kecil (0.07), yang menunjukkan bahwa hipotesis awal mungkin tidak kuat. Namun, kita akan tetap menguji ini melalui pemodelan."
   ]
  },
  {
   "cell_type": "markdown",
   "metadata": {},
   "source": [
    "## Tahap 2: Pra-pemrosesan Data"
   ]
  },
  {
   "cell_type": "markdown",
   "metadata": {},
   "source": [
    "Langkah-langkah pra-pemrosesan:\n",
    "1.  **Menangani Nilai Hilang**: Mengisi nilai `NaN` pada kolom `How_Many_Sold` dan `RATING` dengan nilai median.\n",
    "2.  **Membersihkan Data**: Mengubah `Current_Price` dan `How_Many_Sold` menjadi numerik.\n",
    "3.  **Encoding Variabel Kategorikal**: Menggunakan One-Hot Encoding untuk `Brand_Name`.\n",
    "4.  **Memilih Fitur**: Memilih fitur yang akan digunakan untuk model.\n",
    "5.  **Membagi Dataset**: Membagi data menjadi set pelatihan (80%) dan pengujian (20%) menggunakan random sampling.\n",
    "6.  **Penskalaan Fitur**: Menskalakan fitur numerik menggunakan `StandardScaler`."
   ]
  },
  {
   "cell_type": "code",
   "execution_count": null,
   "metadata": {},
   "outputs": [],
   "source": [
    "from sklearn.model_selection import train_test_split\n",
    "from sklearn.preprocessing import StandardScaler, OneHotEncoder\n",
    "from sklearn.compose import ColumnTransformer\n",
    "from sklearn.pipeline import Pipeline\n",
    "from sklearn.impute import SimpleImputer"
   ]
  },
  {
   "cell_type": "code",
   "execution_count": null,
   "metadata": {},
   "outputs": [],
   "source": [
    "# Menggunakan dataframe asli\n",
    "df_processed = df.copy()\n",
    "\n",
    "# 1. Membersihkan Harga dan Jumlah Terjual\n",
    "df_processed['Current_Price'] = df_processed['Current_Price'].astype(str).str.replace('₹', '').str.replace(',', '').astype(float)\n",
    "df_processed['How_Many_Sold'] = df_processed['How_Many_Sold'].astype(str).str.replace(',', '').astype(float)\n",
    "\n",
    "# 2. Menghapus baris dengan rating NaN karena itu target kita\n",
    "df_processed.dropna(subset=['RATING'], inplace=True)\n",
    "\n",
    "# 3. Memilih fitur dan target\n",
    "# Kita akan drop 'Product_details' untuk sementara\n",
    "X = df_processed.drop(['RATING', 'Product_details'], axis=1)\n",
    "y = df_processed['RATING']\n",
    "\n",
    "# 4. Membagi data\n",
    "X_train, X_test, y_train, y_test = train_test_split(X, y, test_size=0.2, random_state=42)\n",
    "\n",
    "# 5. Membuat pipeline pra-pemrosesan\n",
    "numerical_features = ['How_Many_Sold', 'Current_Price']\n",
    "categorical_features = ['Brand_Name']\n",
    "\n",
    "numerical_transformer = Pipeline(steps=[\n",
    "    ('imputer', SimpleImputer(strategy='median')),\n",
    "    ('scaler', StandardScaler())])\n",
    "\n",
    "categorical_transformer = Pipeline(steps=[\n",
    "    ('imputer', SimpleImputer(strategy='most_frequent')),\n",
    "    ('onehot', OneHotEncoder(handle_unknown='ignore'))])\n",
    "\n",
    "preprocessor = ColumnTransformer(\n",
    "    transformers=[\n",
    "        ('num', numerical_transformer, numerical_features),\n",
    "        ('cat', categorical_transformer, categorical_features)])\n",
    "\n",
    "# Tampilkan hasil pra-pemrosesan pada data training\n",
    "X_train_processed = preprocessor.fit_transform(X_train)\n",
    "X_test_processed = preprocessor.transform(X_test)\n",
    "\n",
    "print(\"Bentuk X_train setelah diproses:\", X_train_processed.shape)\n",
    "print(\"Bentuk X_test setelah diproses:\", X_test_processed.shape)"
   ]
  },
  {
   "cell_type": "markdown",
   "metadata": {},
   "source": [
    "## Tahap 3: Pelatihan dan Perbandingan Model"
   ]
  },
  {
   "cell_type": "markdown",
   "metadata": {},
   "source": [
    "Model yang dipilih:\n",
    "1.  **Linear Regression**: Sebagai baseline model yang sederhana.\n",
    "2.  **Decision Tree Regressor**: Model non-linear yang dapat menangkap interaksi kompleks.\n",
    "3.  **Random Forest Regressor**: Ensemble model yang lebih robust dan akurat daripada satu Decision Tree.\n",
    "\n",
    "Metrik evaluasi yang digunakan:\n",
    "- **Mean Absolute Error (MAE)**\n",
    "- **Mean Squared Error (MSE)**\n",
    "- **Root Mean Squared Error (RMSE)**\n",
    "- **R-squared (R2)**"
   ]
  },
  {
   "cell_type": "code",
   "execution_count": null,
   "metadata": {},
   "outputs": [],
   "source": [
    "from sklearn.linear_model import LinearRegression\n",
    "from sklearn.tree import DecisionTreeRegressor\n",
    "from sklearn.ensemble import RandomForestRegressor\n",
    "from sklearn.model_selection import cross_val_score, GridSearchCV\n",
    "from sklearn.metrics import mean_absolute_error, mean_squared_error, r2_score"
   ]
  },
  {
   "cell_type": "code",
   "execution_count": null,
   "metadata": {},
   "outputs": [],
   "source": [
    "# Inisialisasi model\n",
    "models = {\n",
    "    'Linear Regression': LinearRegression(),\n",
    "    'Decision Tree': DecisionTreeRegressor(random_state=42),\n",
    "    'Random Forest': RandomForestRegressor(random_state=42)\n",
    "}\n",
    "\n",
    "results = {}\n",
    "\n",
    "for name, model in models.items():\n",
    "    # Membuat pipeline lengkap dengan model\n",
    "    pipeline = Pipeline(steps=[('preprocessor', preprocessor),\n",
    "                               ('regressor', model)])\n",
    "    \n",
    "    # Melatih model\n",
    "    pipeline.fit(X_train, y_train)\n",
    "    \n",
    "    # Prediksi\n",
    "    y_pred = pipeline.predict(X_test)\n",
    "    \n",
    "    # Evaluasi\n",
    "    mae = mean_absolute_error(y_test, y_pred)\n",
    "    mse = mean_squared_error(y_test, y_pred)\n",
    "    rmse = np.sqrt(mse)\n",
    "    r2 = r2_score(y_test, y_pred)\n",
    "    \n",
    "    results[name] = {'MAE': mae, 'MSE': mse, 'RMSE': rmse, 'R2': r2}\n",
    "    \n",
    "    print(f\"--- {name} ---\")\n",
    "    print(f\"MAE: {mae:.4f}\")\n",
    "    print(f\"MSE: {mse:.4f}\")\n",
    "    print(f\"RMSE: {rmse:.4f}\")\n",
    "    print(f\"R2 Score: {r2:.4f}\\n\")\n",
    "\n",
    "results_df = pd.DataFrame(results).T\n",
    "results_df"
   ]
  },
  {
   "cell_type": "markdown",
   "metadata": {},
   "source": [
    "### Validasi Silang (Cross-Validation)\n",
    "\n",
    "Untuk memastikan kekokohan (robustness) dari setiap model, kita akan melakukan validasi silang 5-fold. Kita akan mengukur rata-rata dan standar deviasi dari R2 score pada setiap fold."
   ]
  },
  {
   "cell_type": "code",
   "execution_count": null,
   "metadata": {},
   "outputs": [],
   "source": [
    "cv_results = {}\n",
    "print(\"--- Hasil Validasi Silang (5-Fold) ---\\n\")\n",
    "for name, model in models.items():\n",
    "    pipeline = Pipeline(steps=[('preprocessor', preprocessor),\n",
    "                               ('regressor', model)])\n",
    "    \n",
    "    # Menggunakan seluruh data training untuk cross-validation\n",
    "    cv_scores = cross_val_score(pipeline, X_train, y_train, cv=5, scoring='r2')\n",
    "    \n",
    "    cv_results[name] = cv_scores\n",
    "    \n",
    "    print(f\"{name}:\")\n",
    "    print(f\"  R2 Score Rata-rata: {cv_scores.mean():.4f}\")\n",
    "    print(f\"  Standar Deviasi: {cv_scores.std():.4f}\\n\")\n",
    "\n",
    "# Visualisasi hasil cross-validation\n",
    "cv_results_df = pd.DataFrame(cv_results)\n",
    "plt.figure(figsize=(10, 6))\n",
    "sns.boxplot(data=cv_results_df)\n",
    "plt.title('Distribusi R2 Score dari Validasi Silang')\n",
    "plt.ylabel('R2 Score')\n",
    "plt.xlabel('Model')\n",
    "plt.show()"
   ]
  },
  {
   "cell_type": "markdown",
   "metadata": {},
   "source": [
    "### Hyperparameter Tuning (Contoh untuk Random Forest)"
   ]
  },
  {
   "cell_type": "code",
   "execution_count": null,
   "metadata": {},
   "outputs": [],
   "source": [
    "# Membuat pipeline untuk GridSearchCV\n",
    "rf_pipeline = Pipeline(steps=[('preprocessor', preprocessor),\n",
    "                             ('regressor', RandomForestRegressor(random_state=42))])\n",
    "\n",
    "# Definisikan parameter grid\n",
    "param_grid = {\n",
    "    'regressor__n_estimators': [100, 200],\n",
    "    'regressor__max_depth': [10, 20, None],\n",
    "    'regressor__min_samples_leaf': [1, 2, 4]\n",
    "}\n",
    "\n",
    "# Inisialisasi GridSearchCV\n",
    "grid_search = GridSearchCV(rf_pipeline, param_grid, cv=5, scoring='r2', n_jobs=-1, verbose=1)\n",
    "\n",
    "# Melatih grid search\n",
    "grid_search.fit(X_train, y_train)\n",
    "\n",
    "print(\"Parameter terbaik ditemukan:\")\n",
    "print(grid_search.best_params_)\n",
    "\n",
    "# Evaluasi model terbaik\n",
    "best_model = grid_search.best_estimator_\n",
    "y_pred_best = best_model.predict(X_test)\n",
    "\n",
    "mae_best = mean_absolute_error(y_test, y_pred_best)\n",
    "mse_best = mean_squared_error(y_test, y_pred_best)\n",
    "rmse_best = np.sqrt(mse_best)\n",
    "r2_best = r2_score(y_test, y_pred_best)\n",
    "\n",
    "print(\"\\nHasil Random Forest setelah Tuning:\")\n",
    "print(f\"MAE: {mae_best:.4f}\")\n",
    "print(f\"MSE: {mse_best:.4f}\")\n",
    "print(f\"RMSE: {rmse_best:.4f}\")\n",
    "print(f\"R2 Score: {r2_best:.4f}\")"
   ]
  },
  {
   "cell_type": "markdown",
   "metadata": {},
   "source": [
    "### Visualisasi Perbandingan Model"
   ]
  },
  {
   "cell_type": "code",
   "execution_count": null,
   "metadata": {},
   "outputs": [],
   "source": [
    "results_df['R2'].sort_values().plot(kind='barh', figsize=(10, 6))\n",
    "plt.title('Perbandingan R2 Score Antar Model (pada Test Set)')\n",
    "plt.xlabel('R2 Score')\n",
    "plt.show()"
   ]
  },
  {
   "cell_type": "markdown",
   "metadata": {},
   "source": [
    "## Tahap 4: Seleksi Model dan Deployment (Flask)"
   ]
  },
  {
   "cell_type": "markdown",
   "metadata": {},
   "source": [
    "### 4.1 Seleksi Model Terbaik\n",
    "\n",
    "Berdasarkan hasil evaluasi dan validasi silang, **Random Forest Regressor** (terutama setelah tuning) memberikan performa terbaik dengan R2 score tertinggi, error (MAE, MSE, RMSE) yang paling rendah, dan performa yang relatif stabil selama validasi silang. Model ini mampu menjelaskan variasi data lebih baik dibandingkan model lainnya. Oleh karena itu, model ini yang akan kita pilih untuk deployment."
   ]
  },
  {
   "cell_type": "markdown",
   "metadata": {},
   "source": [
    "### 4.2 Menyimpan Model Terbaik\n",
    "\n",
    "Kita akan melatih ulang model Random Forest terbaik pada seluruh dataset (X dan y) dan menyimpannya ke dalam sebuah file menggunakan `joblib`."
   ]
  },
  {
   "cell_type": "code",
   "execution_count": null,
   "metadata": {},
   "outputs": [],
   "source": [
    "import joblib\n",
    "\n",
    "# Model terbaik adalah hasil dari grid search\n",
    "final_model = grid_search.best_estimator_\n",
    "\n",
    "# Melatih ulang model pada seluruh data\n",
    "final_model.fit(X, y)\n",
    "\n",
    "# Menyimpan model\n",
    "joblib.dump(final_model, 'shoe_rating_predictor.pkl')\n",
    "\n",
    "print(\"Model berhasil disimpan sebagai 'shoe_rating_predictor.pkl'\")"
   ]
  },
  {
   "cell_type": "markdown",
   "metadata": {},
   "source": [
    "### 4.3 Kode untuk Aplikasi Flask\n",
    "\n",
    "Berikut adalah kode untuk `app.py` dan `templates/index.html`. Kode ini harus disimpan dalam struktur folder yang benar:\n",
    "```\n",
    "project/\n",
    "├── app.py\n",
    "├── shoe_rating_predictor.pkl\n",
    "├── MEN_SHOES.csv\n",
    "└── templates/\n",
    "    └── index.html\n",
    "```\n",
    "**Catatan:** Kode Flask disediakan di dokumen terpisah."
   ]
  },
  {
   "cell_type": "markdown",
   "metadata": {},
   "source": [
    "## Tahap 5: Dokumentasi dan Interpretasi"
   ]
  },
  {
   "cell_type": "markdown",
   "metadata": {},
   "source": [
    "### Dokumentasi\n",
    "Seluruh proses telah didokumentasikan dalam notebook ini, mulai dari pemuatan data, EDA, pra-pemrosesan, pelatihan model, validasi silang, evaluasi, hingga persiapan untuk deployment. Setiap langkah dijelaskan dalam sel markdown untuk memastikan proses dapat direproduksi.\n",
    "\n",
    "### Interpretasi Hasil\n",
    "- **EDA**: Analisis awal menunjukkan bahwa tidak ada korelasi linear yang kuat antara harga atau jumlah penjualan dengan rating. Distribusi rating paling banyak berada di sekitar 4.0. Merek 'ASIAN' dan 'Reebok' mendominasi dataset.\n",
    "- **Performa Model**: Model-model yang diuji menunjukkan performa yang bervariasi. Linear Regression memiliki performa paling buruk, yang mengkonfirmasi temuan dari EDA bahwa hubungan antar fitur tidak linear. Random Forest, sebagai model ensemble, mampu menangkap pola yang lebih kompleks dan memberikan hasil R2 score terbaik. Hasil validasi silang juga menunjukkan bahwa Random Forest memiliki performa yang paling stabil (standar deviasi lebih rendah) dibandingkan Decision Tree.\n",
    "- **Pentingnya Fitur**: Kita bisa melihat pentingnya fitur dari model Random Forest."
   ]
  },
  {
   "cell_type": "code",
   "execution_count": null,
   "metadata": {},
   "outputs": [],
   "source": [
    "# Mendapatkan nama fitur setelah one-hot encoding\n",
    "try:\n",
    "    cat_features_out = final_model.named_steps['preprocessor'].named_transformers_['cat'].named_steps['onehot'].get_feature_names_out(categorical_features)\n",
    "    all_feature_names = numerical_features + list(cat_features_out)\n",
    "    \n",
    "    # Mendapatkan feature importances\n",
    "    importances = final_model.named_steps['regressor'].feature_importances_\n",
    "    \n",
    "    # Membuat dataframe\n",
    "    feature_importance_df = pd.DataFrame({'feature': all_feature_names, 'importance': importances})\n",
    "    feature_importance_df = feature_importance_df.sort_values('importance', ascending=False).head(10)\n",
    "    \n",
    "    # Visualisasi\n",
    "    plt.figure(figsize=(10, 8))\n",
    "    sns.barplot(x='importance', y='feature', data=feature_importance_df)\n",
    "    plt.title('Top 10 Feature Importances dari Random Forest')\n",
    "    plt.show()\n",
    "except Exception as e:\n",
    "    print(f\"Tidak dapat membuat plot feature importance: {e}\")"
   ]
  },
  {
   "cell_type": "markdown",
   "metadata": {},
   "source": [
    "## Tahap 6: Evaluasi dan Peningkatan"
   ]
  },
  {
   "cell_type": "markdown",
   "metadata": {},
   "source": [
    "### Saran Peningkatan\n",
    "1.  **Feature Engineering dari `Product_details`**: Kolom `Product_details` berisi informasi berharga seperti 'Sports', 'Running', 'Walking', 'Gym', 'Training'. Mengekstrak kata kunci ini bisa menjadi fitur baru yang sangat informatif.\n",
    "2.  **Menggunakan Model yang Lebih Canggih**: Mencoba model boosting seperti Gradient Boosting, XGBoost, atau LightGBM yang seringkali memberikan performa lebih baik.\n",
    "3.  **Pengumpulan Data Tambahan**: Menambahkan lebih banyak data atau fitur lain (misalnya, jumlah ulasan, warna, bahan) dapat meningkatkan akurasi model.\n",
    "\n",
    "### Implementasi Peningkatan\n",
    "Kita akan mencoba mengimplementasikan saran pertama: **Feature Engineering dari `Product_details`**."
   ]
  },
  {
   "cell_type": "code",
   "execution_count": null,
   "metadata": {},
   "outputs": [],
   "source": [
    "# Implementasi Peningkatan\n",
    "df_improved = df_processed.copy()\n",
    "\n",
    "# Ekstrak kata kunci dari 'Product_details'\n",
    "keywords = ['Sports', 'Running', 'Walking', 'Gym', 'Training', 'Casual']\n",
    "for keyword in keywords:\n",
    "    df_improved[f'is_{keyword.lower()}'] = df_improved['Product_details'].str.contains(keyword, case=False, na=False).astype(int)\n",
    "\n",
    "# Drop kolom asli\n",
    "X_improved = df_improved.drop(['RATING', 'Product_details'], axis=1)\n",
    "y_improved = df_improved['RATING']\n",
    "\n",
    "# Buat pipeline baru dengan fitur baru\n",
    "new_numerical_features = numerical_features + [f'is_{k.lower()}' for k in keywords]\n",
    "\n",
    "preprocessor_improved = ColumnTransformer(\n",
    "    transformers=[\n",
    "        ('num', numerical_transformer, new_numerical_features),\n",
    "        ('cat', categorical_transformer, categorical_features)])\n",
    "\n",
    "rf_pipeline_improved = Pipeline(steps=[('preprocessor', preprocessor_improved),\n",
    "                                       ('regressor', RandomForestRegressor(n_estimators=200, max_depth=20, min_samples_leaf=1, random_state=42))]) # Menggunakan parameter terbaik\n",
    "\n",
    "# Latih dan evaluasi model yang ditingkatkan\n",
    "X_train_imp, X_test_imp, y_train_imp, y_test_imp = train_test_split(X_improved, y_improved, test_size=0.2, random_state=42)\n",
    "\n",
    "rf_pipeline_improved.fit(X_train_imp, y_train_imp)\n",
    "y_pred_imp = rf_pipeline_improved.predict(X_test_imp)\n",
    "\n",
    "r2_imp = r2_score(y_test_imp, y_pred_imp)\n",
    "\n",
    "print(f\"R2 Score Awal (Random Forest Tuned): {r2_best:.4f}\")\n",
    "print(f\"R2 Score Setelah Peningkatan: {r2_imp:.4f}\")\n",
    "print(f\"Peningkatan Performa: {(r2_imp - r2_best):.4f}\")"
   ]
  },
  {
   "cell_type": "markdown",
   "metadata": {},
   "source": [
    "**Kesimpulan Peningkatan:** Dengan menambahkan fitur baru dari `Product_details`, performa model (diukur dengan R2 score) berhasil ditingkatkan. Ini menunjukkan bahwa feature engineering adalah langkah yang sangat penting dalam meningkatkan akurasi model prediksi."
   ]
  }
 ],
 "metadata": {
  "kernelspec": {
   "display_name": "Python 3",
   "language": "python",
   "name": "python3"
  },
  "language_info": {
   "codemirror_mode": {
    "name": "ipython",
    "version": 3
   },
   "file_extension": ".py",
   "mimetype": "text/x-python",
   "name": "python",
   "nbconvert_exporter": "python",
   "pygments_lexer": "ipython3",
   "version": "3.9.7"
  }
 },
 "nbformat": 4,
 "nbformat_minor": 4
}
